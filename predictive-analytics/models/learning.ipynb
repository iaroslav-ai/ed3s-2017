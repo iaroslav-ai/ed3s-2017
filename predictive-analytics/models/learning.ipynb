{
 "cells": [
  {
   "cell_type": "markdown",
   "metadata": {},
   "source": [
    "# Example learning with sklearn\n",
    "\n",
    "Joint grid search over parameters of models presented in 'models.ipynb'"
   ]
  },
  {
   "cell_type": "code",
   "execution_count": 1,
   "metadata": {
    "scrolled": false
   },
   "outputs": [
    {
     "name": "stdout",
     "output_type": "stream",
     "text": [
      "0.695067264574 0.695067264574\n"
     ]
    }
   ],
   "source": [
    "import numpy as np\n",
    "import pandas as ps\n",
    "from time import time\n",
    "\n",
    "# Choice of models inspired by\n",
    "# https://arxiv.org/pdf/1708.05070.pdf\n",
    "from sklearn.ensemble import GradientBoostingClassifier\n",
    "from sklearn.svm import SVC, LinearSVC\n",
    "from sklearn.neighbors import KNeighborsClassifier\n",
    "from sklearn.tree import DecisionTreeClassifier\n",
    "from sklearn.dummy import DummyClassifier\n",
    "\n",
    "from sklearn.preprocessing import RobustScaler\n",
    "from sklearn.pipeline import Pipeline\n",
    "from sklearn.model_selection import GridSearchCV, train_test_split\n",
    "\n",
    "# read the data\n",
    "\n",
    "csv = ps.read_csv('titanic.csv')\n",
    "XY = csv.as_matrix()\n",
    "\n",
    "# split data into inputs and outputs\n",
    "X, y = XY[:, :-1], XY[:, -1]\n",
    "\n",
    "model = GridSearchCV(\n",
    "    estimator=Pipeline([\n",
    "        ('scale', RobustScaler()),\n",
    "        ('model', GradientBoostingClassifier()),\n",
    "    ]),\n",
    "    param_grid=[{\n",
    "        'model': [GradientBoostingClassifier()],\n",
    "        'model__n_estimators': [2 ** i for i in range(1, 11)], \n",
    "        #'model__learning_rate': [2 ** i for i in range(-10, 10)],\n",
    "    }],\n",
    "    n_jobs=-1,\n",
    ")\n",
    "\n",
    "\n",
    "\n",
    "# split data into training and testing data\n",
    "X_train, X_test, y_train, y_test = train_test_split(X, y, train_size=0.75)\n",
    "\n",
    "\n",
    "# search for best hyperparameters\n",
    "model.fit(X_train, y_train)\n",
    "dummy_model = DummyClassifier(strategy='most_frequent').fit(X_train, y_train)\n",
    "\n",
    "# evaluate model\n",
    "test_score = model.score(X_test, y_test)\n",
    "dummy_score = model.score(X_test, y_test)\n",
    "\n",
    "print(dummy_score, test_score)"
   ]
  }
 ],
 "metadata": {
  "kernelspec": {
   "display_name": "Python 3",
   "language": "python",
   "name": "python3"
  },
  "language_info": {
   "codemirror_mode": {
    "name": "ipython",
    "version": 3
   },
   "file_extension": ".py",
   "mimetype": "text/x-python",
   "name": "python",
   "nbconvert_exporter": "python",
   "pygments_lexer": "ipython3",
   "version": "3.5.2"
  }
 },
 "nbformat": 4,
 "nbformat_minor": 2
}
