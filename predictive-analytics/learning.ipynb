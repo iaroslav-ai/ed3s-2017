{
 "cells": [
  {
   "cell_type": "markdown",
   "metadata": {},
   "source": [
    "# Example learning with sklearn\n",
    "\n",
    "Joint grid search over parameters of models presented in 'models.ipynb'. A python script with source of this notebook can be found in `titanic.py`."
   ]
  },
  {
   "cell_type": "code",
   "execution_count": null,
   "metadata": {
    "collapsed": true
   },
   "outputs": [],
   "source": [
    "import numpy as np\n",
    "import pandas as ps\n",
    "from time import time\n",
    "\n",
    "# Choice of models inspired by\n",
    "# https://arxiv.org/pdf/1708.05070.pdf\n",
    "from sklearn.ensemble import GradientBoostingClassifier\n",
    "from sklearn.svm import SVC\n",
    "from sklearn.svm import LinearSVC\n",
    "from sklearn.neighbors import KNeighborsClassifier\n",
    "from sklearn.tree import DecisionTreeClassifier\n",
    "from sklearn.dummy import DummyClassifier\n",
    "\n",
    "from sklearn.preprocessing import RobustScaler, OneHotEncoder, Imputer\n",
    "from sklearn.pipeline import Pipeline, make_pipeline, make_union\n",
    "from sklearn.model_selection import GridSearchCV, train_test_split\n",
    "\n",
    "from misc import ColumnSelector, IntEncoder\n",
    "\n",
    "# read the data\n",
    "csv = ps.read_csv('titanic.csv')\n",
    "\n",
    "# get the output\n",
    "y = csv['Survived']\n",
    "\n",
    "# delete the output from csv\n",
    "del csv['Survived']\n",
    "\n",
    "X = csv.as_matrix()\n",
    "col_idx = {v: i for i, v in enumerate(csv.columns)}"
   ]
  },
  {
   "cell_type": "code",
   "execution_count": 4,
   "metadata": {
    "collapsed": false,
    "scrolled": false
   },
   "outputs": [
    {
     "name": "stdout",
     "output_type": "stream",
     "text": [
      "[1 3 'Braund, Mr. Owen Harris' 'male' 22.0 1 0 'A/5 21171' 7.25 nan 'S']\n",
      "{'PassengerId': 0, 'Gender': 3, 'Fare': 8, 'Name': 2, 'SibSp': 5, 'Age': 4, 'Embarked': 10, 'Parch': 6, 'Ticket': 7, 'Cabin': 9, 'Pclass': 1}\n"
     ]
    }
   ],
   "source": [
    "# data is represented as numpy matrix \n",
    "print(X[0, :])\n",
    "# col_idx is used to find index of particular column\n",
    "print(col_idx)"
   ]
  },
  {
   "cell_type": "code",
   "execution_count": 5,
   "metadata": {
    "collapsed": true
   },
   "outputs": [],
   "source": [
    "# this selects subset of features and does preprocessing on them\n",
    "features = make_union(\n",
    "    make_pipeline(\n",
    "        ColumnSelector(col_idx['Fare']),\n",
    "        Imputer(), # replaces missing values with mean of values\n",
    "    ),\n",
    "    make_pipeline(\n",
    "        ColumnSelector(col_idx['Pclass']),\n",
    "        IntEncoder(),\n",
    "        OneHotEncoder(sparse=False),\n",
    "    ),\n",
    "    make_pipeline(\n",
    "        ColumnSelector(col_idx['Embarked']),\n",
    "        IntEncoder(),\n",
    "        OneHotEncoder(sparse=False),\n",
    "    ),\n",
    "    make_pipeline(\n",
    "        ColumnSelector(col_idx['Gender']),\n",
    "        IntEncoder(),\n",
    "        OneHotEncoder(sparse=False),\n",
    "    ),\n",
    ")"
   ]
  },
  {
   "cell_type": "code",
   "execution_count": 10,
   "metadata": {
    "collapsed": false
   },
   "outputs": [
    {
     "name": "stdout",
     "output_type": "stream",
     "text": [
      "[[1 3 'Braund, Mr. Owen Harris' 'male' 22.0 1 0 'A/5 21171' 7.25 nan 'S']\n",
      " [6 3 'Moran, Mr. James' 'male' nan 0 0 '330877' 8.4583 nan 'Q']]\n",
      "[[ 7.25    0.      0.      1.      0.      1.      0.      0.      1.    ]\n",
      " [ 8.4583  0.      0.      1.      0.      0.      1.      0.      1.    ]]\n"
     ]
    }
   ],
   "source": [
    "# example feature transformation\n",
    "features.fit(X)\n",
    "print(X[[0, 5], :])\n",
    "print(features.transform(X[[0, 5], :]))"
   ]
  },
  {
   "cell_type": "code",
   "execution_count": 12,
   "metadata": {
    "collapsed": true
   },
   "outputs": [],
   "source": [
    "# prepare the necessary model classes and search spaces\n",
    "estimator = Pipeline([\n",
    "    ('feats', features),\n",
    "    ('scale', RobustScaler()),\n",
    "    ('model', GradientBoostingClassifier()),\n",
    "])\n",
    "\n",
    "# search spaces for different model classes\n",
    "gbrt = {\n",
    "    'model': [GradientBoostingClassifier()],\n",
    "    'model__n_estimators': [2 ** i for i in range(1, 11)],\n",
    "    'model__learning_rate': [2 ** i for i in range(-10, 10)],\n",
    "}\n",
    "svc = {\n",
    "    'model': [SVC()],\n",
    "    'model__C': [10 ** i for i in np.linspace(-6, 6, 20)],\n",
    "    'model__gamma': [10 ** i for i in np.linspace(-6, 6, 20)],\n",
    "}\n",
    "linsvc = {\n",
    "    'model': [LinearSVC(max_iter=10000)],\n",
    "    'model__C': [10 ** i for i in np.linspace(-6, 6, 20)],\n",
    "}\n",
    "knn = {\n",
    "    'model': [KNeighborsClassifier()],\n",
    "    'model__n_neighbors': range(1, min(len(X)-1, 256)),\n",
    "}\n",
    "dectree = {\n",
    "    'model': [DecisionTreeClassifier()],\n",
    "    'model__max_depth': range(1, 20),\n",
    "    'model__min_samples_split': [2 ** i for i in range(-20, -1)],\n",
    "}\n",
    "\n",
    "# this class does search over all parameter spaces for parameter\n",
    "# combination which yields the best validation loss\n",
    "model = GridSearchCV(\n",
    "    estimator=estimator,\n",
    "    param_grid=[gbrt, linsvc, knn, dectree], # svc,\n",
    "    n_jobs=-1,\n",
    "    verbose=1\n",
    ")\n",
    "\n",
    "# a class implementing trivial model - guess either at random\n",
    "# or a class that is most likely\n",
    "dummy_model = GridSearchCV(\n",
    "    estimator=estimator,\n",
    "    param_grid=[{\n",
    "        'model': [DummyClassifier()],\n",
    "        'model__strategy': ['most_frequent', 'uniform'],\n",
    "    }],\n",
    "    n_jobs=1,\n",
    ")\n",
    "\n",
    "# split data into training and testing data\n",
    "X_train, X_test, y_train, y_test = train_test_split(X, y, train_size=0.75)"
   ]
  },
  {
   "cell_type": "code",
   "execution_count": 13,
   "metadata": {
    "collapsed": false
   },
   "outputs": [
    {
     "name": "stdout",
     "output_type": "stream",
     "text": [
      "Fitting 3 folds for each of 836 candidates, totalling 2508 fits\n"
     ]
    },
    {
     "name": "stderr",
     "output_type": "stream",
     "text": [
      "[Parallel(n_jobs=-1)]: Done 226 tasks      | elapsed:    6.4s\n",
      "/home/iaroslav/.local/lib/python3.5/site-packages/sklearn/ensemble/gradient_boosting.py:256: RuntimeWarning: overflow encountered in multiply\n",
      "  * tree.value[:, 0, 0].take(terminal_regions, axis=0))\n",
      "/home/iaroslav/.local/lib/python3.5/site-packages/sklearn/ensemble/gradient_boosting.py:490: RuntimeWarning: invalid value encountered in multiply\n",
      "  np.sum(sample_weight * ((y * pred) - np.logaddexp(0.0, pred))))\n",
      "/home/iaroslav/.local/lib/python3.5/site-packages/sklearn/ensemble/gradient_boosting.py:490: RuntimeWarning: invalid value encountered in subtract\n",
      "  np.sum(sample_weight * ((y * pred) - np.logaddexp(0.0, pred))))\n",
      "/home/iaroslav/.local/lib/python3.5/site-packages/sklearn/ensemble/gradient_boosting.py:256: RuntimeWarning: overflow encountered in multiply\n",
      "  * tree.value[:, 0, 0].take(terminal_regions, axis=0))\n",
      "/home/iaroslav/.local/lib/python3.5/site-packages/sklearn/ensemble/gradient_boosting.py:490: RuntimeWarning: invalid value encountered in subtract\n",
      "  np.sum(sample_weight * ((y * pred) - np.logaddexp(0.0, pred))))\n",
      "/home/iaroslav/.local/lib/python3.5/site-packages/sklearn/ensemble/gradient_boosting.py:490: RuntimeWarning: invalid value encountered in multiply\n",
      "  np.sum(sample_weight * ((y * pred) - np.logaddexp(0.0, pred))))\n",
      "/home/iaroslav/.local/lib/python3.5/site-packages/sklearn/ensemble/gradient_boosting.py:256: RuntimeWarning: overflow encountered in multiply\n",
      "  * tree.value[:, 0, 0].take(terminal_regions, axis=0))\n",
      "/home/iaroslav/.local/lib/python3.5/site-packages/sklearn/ensemble/gradient_boosting.py:490: RuntimeWarning: invalid value encountered in subtract\n",
      "  np.sum(sample_weight * ((y * pred) - np.logaddexp(0.0, pred))))\n",
      "/home/iaroslav/.local/lib/python3.5/site-packages/sklearn/ensemble/gradient_boosting.py:490: RuntimeWarning: invalid value encountered in multiply\n",
      "  np.sum(sample_weight * ((y * pred) - np.logaddexp(0.0, pred))))\n",
      "/home/iaroslav/.local/lib/python3.5/site-packages/sklearn/ensemble/gradient_boosting.py:256: RuntimeWarning: overflow encountered in multiply\n",
      "  * tree.value[:, 0, 0].take(terminal_regions, axis=0))\n",
      "/home/iaroslav/.local/lib/python3.5/site-packages/sklearn/ensemble/gradient_boosting.py:490: RuntimeWarning: invalid value encountered in multiply\n",
      "  np.sum(sample_weight * ((y * pred) - np.logaddexp(0.0, pred))))\n",
      "/home/iaroslav/.local/lib/python3.5/site-packages/sklearn/ensemble/gradient_boosting.py:490: RuntimeWarning: invalid value encountered in subtract\n",
      "  np.sum(sample_weight * ((y * pred) - np.logaddexp(0.0, pred))))\n",
      "/home/iaroslav/.local/lib/python3.5/site-packages/sklearn/ensemble/gradient_boosting.py:490: RuntimeWarning: invalid value encountered in multiply\n",
      "  np.sum(sample_weight * ((y * pred) - np.logaddexp(0.0, pred))))\n",
      "/home/iaroslav/.local/lib/python3.5/site-packages/sklearn/ensemble/gradient_boosting.py:256: RuntimeWarning: overflow encountered in multiply\n",
      "  * tree.value[:, 0, 0].take(terminal_regions, axis=0))\n",
      "/home/iaroslav/.local/lib/python3.5/site-packages/sklearn/ensemble/gradient_boosting.py:256: RuntimeWarning: overflow encountered in multiply\n",
      "  * tree.value[:, 0, 0].take(terminal_regions, axis=0))\n",
      "/home/iaroslav/.local/lib/python3.5/site-packages/sklearn/ensemble/gradient_boosting.py:490: RuntimeWarning: invalid value encountered in multiply\n",
      "  np.sum(sample_weight * ((y * pred) - np.logaddexp(0.0, pred))))\n",
      "/home/iaroslav/.local/lib/python3.5/site-packages/sklearn/ensemble/gradient_boosting.py:490: RuntimeWarning: invalid value encountered in subtract\n",
      "  np.sum(sample_weight * ((y * pred) - np.logaddexp(0.0, pred))))\n",
      "/home/iaroslav/.local/lib/python3.5/site-packages/sklearn/ensemble/gradient_boosting.py:490: RuntimeWarning: invalid value encountered in subtract\n",
      "  np.sum(sample_weight * ((y * pred) - np.logaddexp(0.0, pred))))\n",
      "/home/iaroslav/.local/lib/python3.5/site-packages/sklearn/ensemble/gradient_boosting.py:256: RuntimeWarning: overflow encountered in multiply\n",
      "  * tree.value[:, 0, 0].take(terminal_regions, axis=0))\n",
      "/home/iaroslav/.local/lib/python3.5/site-packages/sklearn/ensemble/gradient_boosting.py:490: RuntimeWarning: invalid value encountered in multiply\n",
      "  np.sum(sample_weight * ((y * pred) - np.logaddexp(0.0, pred))))\n",
      "/home/iaroslav/.local/lib/python3.5/site-packages/sklearn/ensemble/gradient_boosting.py:490: RuntimeWarning: invalid value encountered in subtract\n",
      "  np.sum(sample_weight * ((y * pred) - np.logaddexp(0.0, pred))))\n",
      "/home/iaroslav/.local/lib/python3.5/site-packages/sklearn/ensemble/gradient_boosting.py:256: RuntimeWarning: overflow encountered in multiply\n",
      "  * tree.value[:, 0, 0].take(terminal_regions, axis=0))\n",
      "/home/iaroslav/.local/lib/python3.5/site-packages/sklearn/ensemble/gradient_boosting.py:490: RuntimeWarning: invalid value encountered in multiply\n",
      "  np.sum(sample_weight * ((y * pred) - np.logaddexp(0.0, pred))))\n",
      "/home/iaroslav/.local/lib/python3.5/site-packages/sklearn/ensemble/gradient_boosting.py:490: RuntimeWarning: invalid value encountered in subtract\n",
      "  np.sum(sample_weight * ((y * pred) - np.logaddexp(0.0, pred))))\n",
      "/home/iaroslav/.local/lib/python3.5/site-packages/sklearn/ensemble/gradient_boosting.py:256: RuntimeWarning: overflow encountered in multiply\n",
      "  * tree.value[:, 0, 0].take(terminal_regions, axis=0))\n",
      "/home/iaroslav/.local/lib/python3.5/site-packages/sklearn/ensemble/gradient_boosting.py:490: RuntimeWarning: invalid value encountered in multiply\n",
      "  np.sum(sample_weight * ((y * pred) - np.logaddexp(0.0, pred))))\n",
      "/home/iaroslav/.local/lib/python3.5/site-packages/sklearn/ensemble/gradient_boosting.py:490: RuntimeWarning: invalid value encountered in subtract\n",
      "  np.sum(sample_weight * ((y * pred) - np.logaddexp(0.0, pred))))\n",
      "/home/iaroslav/.local/lib/python3.5/site-packages/sklearn/ensemble/gradient_boosting.py:256: RuntimeWarning: overflow encountered in multiply\n",
      "  * tree.value[:, 0, 0].take(terminal_regions, axis=0))\n",
      "/home/iaroslav/.local/lib/python3.5/site-packages/sklearn/ensemble/gradient_boosting.py:490: RuntimeWarning: invalid value encountered in multiply\n",
      "  np.sum(sample_weight * ((y * pred) - np.logaddexp(0.0, pred))))\n",
      "/home/iaroslav/.local/lib/python3.5/site-packages/sklearn/ensemble/gradient_boosting.py:490: RuntimeWarning: invalid value encountered in subtract\n",
      "  np.sum(sample_weight * ((y * pred) - np.logaddexp(0.0, pred))))\n",
      "[Parallel(n_jobs=-1)]: Done 745 tasks      | elapsed:   18.9s\n",
      "[Parallel(n_jobs=-1)]: Done 1435 tasks      | elapsed:   29.5s\n",
      "[Parallel(n_jobs=-1)]: Done 2493 out of 2508 | elapsed:   34.7s remaining:    0.2s\n",
      "[Parallel(n_jobs=-1)]: Done 2508 out of 2508 | elapsed:   34.8s finished\n"
     ]
    },
    {
     "data": {
      "text/plain": [
       "GridSearchCV(cv=None, error_score='raise',\n",
       "       estimator=Pipeline(steps=[('feats', FeatureUnion(n_jobs=1,\n",
       "       transformer_list=[('pipeline-1', Pipeline(steps=[('columnselector', ColumnSelector(key=8, row_space=False)), ('imputer', Imputer(axis=0, copy=True, missing_values='NaN', strategy='mean', verbose=0))])), ('pipeline-2', Pipeline(steps=[('columnselector', ...=100, presort='auto', random_state=None,\n",
       "              subsample=1.0, verbose=0, warm_start=False))]),\n",
       "       fit_params={}, iid=True, n_jobs=1,\n",
       "       param_grid=[{'model': [DummyClassifier(constant=None, random_state=None, strategy='most_frequent')], 'model__strategy': ['most_frequent', 'uniform']}],\n",
       "       pre_dispatch='2*n_jobs', refit=True, return_train_score=True,\n",
       "       scoring=None, verbose=0)"
      ]
     },
     "execution_count": 13,
     "metadata": {},
     "output_type": "execute_result"
    }
   ],
   "source": [
    "# do the fitting here!\n",
    "model.fit(X_train, y_train)\n",
    "dummy_model.fit(X_train, y_train)"
   ]
  },
  {
   "cell_type": "code",
   "execution_count": 16,
   "metadata": {
    "collapsed": false
   },
   "outputs": [
    {
     "name": "stdout",
     "output_type": "stream",
     "text": [
      "Trivial accuracy: 0.618834080717\n",
      "Model accuracy: 0.789237668161\n"
     ]
    }
   ],
   "source": [
    "# analyze the results\n",
    "test_score = model.score(X_test, y_test)\n",
    "dummy_score = dummy_model.score(X_test, y_test)\n",
    "\n",
    "print(\"Trivial accuracy: %s\" % dummy_score)\n",
    "print(\"Model accuracy: %s\" % test_score)"
   ]
  }
 ],
 "metadata": {
  "kernelspec": {
   "display_name": "Python 3",
   "language": "python",
   "name": "python3"
  },
  "language_info": {
   "codemirror_mode": {
    "name": "ipython",
    "version": 3
   },
   "file_extension": ".py",
   "mimetype": "text/x-python",
   "name": "python",
   "nbconvert_exporter": "python",
   "pygments_lexer": "ipython3",
   "version": "3.5.2"
  }
 },
 "nbformat": 4,
 "nbformat_minor": 2
}
