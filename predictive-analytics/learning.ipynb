{
 "cells": [
  {
   "cell_type": "markdown",
   "metadata": {},
   "source": [
    "# Example learning with sklearn\n",
    "\n",
    "Joint grid search over parameters of models presented in 'models.ipynb'. A python script with source of this notebook can be found in `titanic.py`."
   ]
  },
  {
   "cell_type": "code",
   "execution_count": 1,
   "metadata": {},
   "outputs": [],
   "source": [
    "import numpy as np\n",
    "import pandas as ps\n",
    "from time import time\n",
    "\n",
    "# Choice of models inspired by\n",
    "# https://arxiv.org/pdf/1708.05070.pdf\n",
    "from sklearn.ensemble import GradientBoostingClassifier\n",
    "from sklearn.svm import SVC\n",
    "from sklearn.svm import LinearSVC\n",
    "from sklearn.neighbors import KNeighborsClassifier\n",
    "from sklearn.tree import DecisionTreeClassifier\n",
    "from sklearn.dummy import DummyClassifier\n",
    "\n",
    "from sklearn.preprocessing import RobustScaler, OneHotEncoder, Imputer\n",
    "from sklearn.pipeline import Pipeline, make_pipeline, make_union\n",
    "from sklearn.model_selection import GridSearchCV, train_test_split\n",
    "\n",
    "from misc import ColumnSelector, IntEncoder\n",
    "\n",
    "# read the data\n",
    "csv = ps.read_csv('titanic.csv')\n",
    "\n",
    "# get the output\n",
    "y = csv['Survived']\n",
    "\n",
    "# delete the output from csv\n",
    "del csv['Survived']\n",
    "\n",
    "X = csv.as_matrix()\n",
    "col_idx = {v: i for i, v in enumerate(csv.columns)}"
   ]
  },
  {
   "cell_type": "code",
   "execution_count": 2,
   "metadata": {
    "scrolled": false
   },
   "outputs": [
    {
     "name": "stdout",
     "output_type": "stream",
     "text": [
      "[1 3 'Braund, Mr. Owen Harris' 'male' 22.0 1 0 'A/5 21171' 7.25 nan 'S']\n",
      "{'Gender': 3, 'Embarked': 10, 'Cabin': 9, 'SibSp': 5, 'Age': 4, 'Pclass': 1, 'PassengerId': 0, 'Name': 2, 'Parch': 6, 'Fare': 8, 'Ticket': 7}\n"
     ]
    }
   ],
   "source": [
    "# data is represented as numpy matrix \n",
    "print(X[0, :])\n",
    "# col_idx is used to find index of particular column\n",
    "print(col_idx)"
   ]
  },
  {
   "cell_type": "code",
   "execution_count": 3,
   "metadata": {},
   "outputs": [],
   "source": [
    "# this selects subset of features and does preprocessing on them\n",
    "features = make_union(\n",
    "    make_pipeline(\n",
    "        ColumnSelector(col_idx['Fare']),\n",
    "        Imputer(), # replaces missing values with mean of values\n",
    "    ),\n",
    "    make_pipeline(\n",
    "        ColumnSelector(col_idx['Pclass']),\n",
    "        IntEncoder(),\n",
    "        OneHotEncoder(sparse=False),\n",
    "    ),\n",
    "    make_pipeline(\n",
    "        ColumnSelector(col_idx['Embarked']),\n",
    "        IntEncoder(),\n",
    "        OneHotEncoder(sparse=False),\n",
    "    ),\n",
    ")"
   ]
  },
  {
   "cell_type": "code",
   "execution_count": 10,
   "metadata": {},
   "outputs": [
    {
     "data": {
      "text/html": [
       "<div>\n",
       "<style>\n",
       "    .dataframe thead tr:only-child th {\n",
       "        text-align: right;\n",
       "    }\n",
       "\n",
       "    .dataframe thead th {\n",
       "        text-align: left;\n",
       "    }\n",
       "\n",
       "    .dataframe tbody tr th {\n",
       "        vertical-align: top;\n",
       "    }\n",
       "</style>\n",
       "<table border=\"1\" class=\"dataframe\">\n",
       "  <thead>\n",
       "    <tr style=\"text-align: right;\">\n",
       "      <th></th>\n",
       "      <th>PassengerId</th>\n",
       "      <th>Pclass</th>\n",
       "      <th>Name</th>\n",
       "      <th>Gender</th>\n",
       "      <th>Age</th>\n",
       "      <th>SibSp</th>\n",
       "      <th>Parch</th>\n",
       "      <th>Ticket</th>\n",
       "      <th>Fare</th>\n",
       "      <th>Cabin</th>\n",
       "      <th>Embarked</th>\n",
       "    </tr>\n",
       "  </thead>\n",
       "  <tbody>\n",
       "    <tr>\n",
       "      <th>1</th>\n",
       "      <td>2</td>\n",
       "      <td>1</td>\n",
       "      <td>Cumings, Mrs. John Bradley (Florence Briggs Th...</td>\n",
       "      <td>female</td>\n",
       "      <td>38.0</td>\n",
       "      <td>1</td>\n",
       "      <td>0</td>\n",
       "      <td>PC 17599</td>\n",
       "      <td>71.2833</td>\n",
       "      <td>C85</td>\n",
       "      <td>C</td>\n",
       "    </tr>\n",
       "    <tr>\n",
       "      <th>2</th>\n",
       "      <td>3</td>\n",
       "      <td>3</td>\n",
       "      <td>Heikkinen, Miss. Laina</td>\n",
       "      <td>female</td>\n",
       "      <td>26.0</td>\n",
       "      <td>0</td>\n",
       "      <td>0</td>\n",
       "      <td>STON/O2. 3101282</td>\n",
       "      <td>7.9250</td>\n",
       "      <td>NaN</td>\n",
       "      <td>S</td>\n",
       "    </tr>\n",
       "    <tr>\n",
       "      <th>3</th>\n",
       "      <td>4</td>\n",
       "      <td>1</td>\n",
       "      <td>Futrelle, Mrs. Jacques Heath (Lily May Peel)</td>\n",
       "      <td>female</td>\n",
       "      <td>35.0</td>\n",
       "      <td>1</td>\n",
       "      <td>0</td>\n",
       "      <td>113803</td>\n",
       "      <td>53.1000</td>\n",
       "      <td>C123</td>\n",
       "      <td>S</td>\n",
       "    </tr>\n",
       "  </tbody>\n",
       "</table>\n",
       "</div>"
      ],
      "text/plain": [
       "   PassengerId  Pclass                                               Name  \\\n",
       "1            2       1  Cumings, Mrs. John Bradley (Florence Briggs Th...   \n",
       "2            3       3                             Heikkinen, Miss. Laina   \n",
       "3            4       1       Futrelle, Mrs. Jacques Heath (Lily May Peel)   \n",
       "\n",
       "   Gender   Age  SibSp  Parch            Ticket     Fare Cabin Embarked  \n",
       "1  female  38.0      1      0          PC 17599  71.2833   C85        C  \n",
       "2  female  26.0      0      0  STON/O2. 3101282   7.9250   NaN        S  \n",
       "3  female  35.0      1      0            113803  53.1000  C123        S  "
      ]
     },
     "metadata": {},
     "output_type": "display_data"
    },
    {
     "name": "stdout",
     "output_type": "stream",
     "text": [
      "[[ 71.2833   1.       0.       0.       1.       0.       0.    ]\n",
      " [  7.925    0.       0.       1.       0.       0.       1.    ]\n",
      " [ 53.1      1.       0.       0.       0.       0.       1.    ]]\n"
     ]
    }
   ],
   "source": [
    "# example feature transformation\n",
    "features.fit(X)\n",
    "display(csv.iloc[1:4, :])\n",
    "print(features.transform(X[1:4, :]))"
   ]
  },
  {
   "cell_type": "code",
   "execution_count": 5,
   "metadata": {},
   "outputs": [
    {
     "name": "stderr",
     "output_type": "stream",
     "text": [
      "/home/user/.local/lib/python3.5/site-packages/sklearn/model_selection/_split.py:2010: FutureWarning: From version 0.21, test_size will always complement train_size unless both are specified.\n",
      "  FutureWarning)\n"
     ]
    }
   ],
   "source": [
    "# prepare the necessary model classes and search spaces\n",
    "estimator = Pipeline([\n",
    "    ('feats', features),\n",
    "    ('scale', RobustScaler()),\n",
    "    ('model', GradientBoostingClassifier()),\n",
    "])\n",
    "\n",
    "# search spaces for different model classes\n",
    "gbrt = {\n",
    "    'model': [GradientBoostingClassifier()],\n",
    "    'model__n_estimators': [2 ** i for i in range(1, 11)],\n",
    "    'model__learning_rate': [2 ** i for i in range(-10, 10)],\n",
    "}\n",
    "svc = {\n",
    "    'model': [SVC()],\n",
    "    'model__C': [10 ** i for i in np.linspace(-6, 6, 20)],\n",
    "    'model__gamma': [10 ** i for i in np.linspace(-6, 6, 20)],\n",
    "}\n",
    "linsvc = {\n",
    "    'model': [LinearSVC(max_iter=10000)],\n",
    "    'model__C': [10 ** i for i in np.linspace(-6, 6, 20)],\n",
    "}\n",
    "knn = {\n",
    "    'model': [KNeighborsClassifier()],\n",
    "    'model__n_neighbors': range(1, min(len(X)-1, 256)),\n",
    "}\n",
    "dectree = {\n",
    "    'model': [DecisionTreeClassifier()],\n",
    "    'model__max_depth': range(1, 20),\n",
    "    'model__min_samples_split': [2 ** i for i in range(-20, -1)],\n",
    "}\n",
    "\n",
    "# this class does search over all parameter spaces for parameter\n",
    "# combination which yields the best validation loss\n",
    "model = GridSearchCV(\n",
    "    estimator=estimator,\n",
    "    param_grid=[gbrt, linsvc, knn, dectree], #svc, \n",
    "    n_jobs=-1,\n",
    "    verbose=1\n",
    ")\n",
    "\n",
    "# a class implementing trivial model - guess either at random\n",
    "# or a class that is most likely\n",
    "dummy_model = GridSearchCV(\n",
    "    estimator=estimator,\n",
    "    param_grid=[{\n",
    "        'model': [DummyClassifier()],\n",
    "        'model__strategy': ['most_frequent', 'uniform'],\n",
    "    }],\n",
    "    n_jobs=1,\n",
    ")\n",
    "\n",
    "# split data into training and testing data\n",
    "X_train, X_test, y_train, y_test = train_test_split(X, y, train_size=0.75)"
   ]
  },
  {
   "cell_type": "code",
   "execution_count": 6,
   "metadata": {},
   "outputs": [
    {
     "name": "stdout",
     "output_type": "stream",
     "text": [
      "Fitting 3 folds for each of 836 candidates, totalling 2508 fits\n"
     ]
    },
    {
     "name": "stderr",
     "output_type": "stream",
     "text": [
      "[Parallel(n_jobs=-1)]: Done 231 tasks      | elapsed:    5.5s\n",
      "[Parallel(n_jobs=-1)]: Done 666 tasks      | elapsed:   15.7s\n",
      "[Parallel(n_jobs=-1)]: Done 2270 tasks      | elapsed:   27.7s\n",
      "[Parallel(n_jobs=-1)]: Done 2508 out of 2508 | elapsed:   28.3s finished\n"
     ]
    },
    {
     "data": {
      "text/plain": [
       "GridSearchCV(cv=None, error_score='raise',\n",
       "       estimator=Pipeline(memory=None,\n",
       "     steps=[('feats', FeatureUnion(n_jobs=1,\n",
       "       transformer_list=[('pipeline-1', Pipeline(memory=None,\n",
       "     steps=[('columnselector', ColumnSelector(key=8, row_space=False)), ('imputer', Imputer(axis=0, copy=True, missing_values='NaN', strategy='mean', verbose=0))])), ('pipeline-2', Pipeline(memory=N...      presort='auto', random_state=None, subsample=1.0, verbose=0,\n",
       "              warm_start=False))]),\n",
       "       fit_params=None, iid=True, n_jobs=1,\n",
       "       param_grid=[{'model': [DummyClassifier(constant=None, random_state=None, strategy='most_frequent')], 'model__strategy': ['most_frequent', 'uniform']}],\n",
       "       pre_dispatch='2*n_jobs', refit=True, return_train_score=True,\n",
       "       scoring=None, verbose=0)"
      ]
     },
     "execution_count": 6,
     "metadata": {},
     "output_type": "execute_result"
    }
   ],
   "source": [
    "# do the fitting here!\n",
    "model.fit(X_train, y_train)\n",
    "dummy_model.fit(X_train, y_train)"
   ]
  },
  {
   "cell_type": "code",
   "execution_count": 7,
   "metadata": {},
   "outputs": [
    {
     "name": "stdout",
     "output_type": "stream",
     "text": [
      "Trivial accuracy: 0.596412556054\n",
      "Model accuracy: 0.72197309417\n"
     ]
    }
   ],
   "source": [
    "# analyze the results\n",
    "test_score = model.score(X_test, y_test)\n",
    "dummy_score = dummy_model.score(X_test, y_test)\n",
    "\n",
    "print(\"Trivial accuracy: %s\" % dummy_score)\n",
    "print(\"Model accuracy: %s\" % test_score)"
   ]
  }
 ],
 "metadata": {
  "kernelspec": {
   "display_name": "Python 3",
   "language": "python",
   "name": "python3"
  },
  "language_info": {
   "codemirror_mode": {
    "name": "ipython",
    "version": 3
   },
   "file_extension": ".py",
   "mimetype": "text/x-python",
   "name": "python",
   "nbconvert_exporter": "python",
   "pygments_lexer": "ipython3",
   "version": "3.5.2"
  }
 },
 "nbformat": 4,
 "nbformat_minor": 2
}
