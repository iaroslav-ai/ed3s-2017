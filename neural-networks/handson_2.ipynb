{
 "cells": [
  {
   "cell_type": "markdown",
   "metadata": {},
   "source": [
    "# Keras - high level deep learning library\n",
    "\n",
    "Defining an architecture of deep neural network is complex using directly a low - level linear algebra operations. Keras provides implementations of common neural network layers, as well as algorithms to optimize the neural networks. \n",
    "\n",
    "### Image classification task\n",
    "\n",
    "In example below a neural network is trained to detect what is shown in the image."
   ]
  },
  {
   "cell_type": "code",
   "execution_count": 41,
   "metadata": {},
   "outputs": [
    {
     "name": "stdout",
     "output_type": "stream",
     "text": [
      "(28, 28)\n"
     ]
    },
    {
     "data": {
      "image/png": "[encoded data removed]",
      "text/plain": [
       "<matplotlib.figure.Figure at 0x7fedf5763128>"
      ]
     },
     "metadata": {},
     "output_type": "display_data"
    }
   ],
   "source": [
    "import pickle as pc\n",
    "import numpy as np\n",
    "\n",
    "from sklearn.model_selection import train_test_split\n",
    "\n",
    "from keras.models import Model\n",
    "from keras.layers import Dense, Input, Conv2D, MaxPool2D, Flatten\n",
    "from keras.layers.advanced_activations import LeakyReLU\n",
    "from keras.layers.merge import Concatenate\n",
    "from keras.optimizers import Adam\n",
    "from keras.datasets import cifar10, mnist\n",
    "\n",
    "X, y = mnist.load_data()[0]\n",
    "#X, y = cifar10.load_data()[0]\n",
    "\n",
    "x_shape = X.shape[1:]\n",
    "print(x_shape)\n",
    "\n",
    "import matplotlib.pyplot as plt\n",
    "\n",
    "plt.figure(figsize=(12, 9))\n",
    "for i in range(10):\n",
    "    plt.subplot(1, 10, i+1)\n",
    "    plt.title(y[i])\n",
    "    plt.imshow(X[i])\n",
    "plt.show()"
   ]
  },
  {
   "cell_type": "code",
   "execution_count": 42,
   "metadata": {},
   "outputs": [
    {
     "name": "stderr",
     "output_type": "stream",
     "text": [
      "/home/user/.local/lib/python3.5/site-packages/sklearn/model_selection/_split.py:2010: FutureWarning: From version 0.21, test_size will always complement train_size unless both are specified.\n",
      "  FutureWarning)\n"
     ]
    }
   ],
   "source": [
    "# reshape images to vector\n",
    "X = np.reshape(X, (len(X), -1))\n",
    "\n",
    "# split data into training and testing\n",
    "X_train, X_test, y_train, y_test = train_test_split(X, y, train_size=0.75)\n",
    "\n",
    "# define network architecture\n",
    "nettype = 'dnn'\n",
    "\n",
    "if nettype == 'dnn':\n",
    "    x = Input(shape=X_train[0].shape)\n",
    "    h = x\n",
    "    h = Dense(64)(h)\n",
    "    h = LeakyReLU()(h)\n",
    "    #h = Concatenate()([h, x])\n",
    "    h = Dense(10, activation='softmax')(h)\n",
    "    y = h\n",
    "else:\n",
    "    X_train = np.reshape(X_train, (len(X_train), ) + x_shape)\n",
    "    X_test = np.reshape(X_test, (len(X_test), ) + x_shape)\n",
    "    \n",
    "    x = Input(shape=X_train[0].shape)\n",
    "    h = x\n",
    "    \n",
    "    h = Conv2D(64, (3,3))(h)\n",
    "    h = MaxPool2D()(h)\n",
    "    h = LeakyReLU()(h)\n",
    "    \n",
    "    h = Flatten()(h)\n",
    "    \n",
    "    h = Dense(10, activation='softmax')(h)\n",
    "    y = h\n",
    "    \n",
    "\n",
    "model = Model(inputs=x, outputs=y)\n",
    "\n",
    "# compile computational graph of NN\n",
    "model.compile(loss='sparse_categorical_crossentropy',\n",
    "              optimizer=Adam(lr=0.001),\n",
    "              metrics=['accuracy'])"
   ]
  },
  {
   "cell_type": "code",
   "execution_count": 43,
   "metadata": {},
   "outputs": [
    {
     "data": {
      "image/svg+xml": [
       "<svg height=\"264pt\" viewBox=\"0.00 0.00 223.00 264.00\" width=\"223pt\" xmlns=\"http://www.w3.org/2000/svg\" xmlns:xlink=\"http://www.w3.org/1999/xlink\">\n",
       "<g class=\"graph\" id=\"graph0\" transform=\"scale(1 1) rotate(0) translate(4 260)\">\n",
       "<title>G</title>\n",
       "<polygon fill=\"white\" points=\"-4,4 -4,-260 219,-260 219,4 -4,4\" stroke=\"none\"/>\n",
       "<!-- 140660927296120 -->\n",
       "<g class=\"node\" id=\"node1\"><title>140660927296120</title>\n",
       "<polygon fill=\"none\" points=\"23,-219.5 23,-255.5 192,-255.5 192,-219.5 23,-219.5\" stroke=\"black\"/>\n",
       "<text font-family=\"Times,serif\" font-size=\"14.00\" text-anchor=\"middle\" x=\"107.5\" y=\"-233.8\">input_11: InputLayer</text>\n",
       "</g>\n",
       "<!-- 140661269283840 -->\n",
       "<g class=\"node\" id=\"node2\"><title>140661269283840</title>\n",
       "<polygon fill=\"none\" points=\"39,-146.5 39,-182.5 176,-182.5 176,-146.5 39,-146.5\" stroke=\"black\"/>\n",
       "<text font-family=\"Times,serif\" font-size=\"14.00\" text-anchor=\"middle\" x=\"107.5\" y=\"-160.8\">dense_19: Dense</text>\n",
       "</g>\n",
       "<!-- 140660927296120&#45;&gt;140661269283840 -->\n",
       "<g class=\"edge\" id=\"edge1\"><title>140660927296120-&gt;140661269283840</title>\n",
       "<path d=\"M107.5,-219.313C107.5,-211.289 107.5,-201.547 107.5,-192.569\" fill=\"none\" stroke=\"black\"/>\n",
       "<polygon fill=\"black\" points=\"111,-192.529 107.5,-182.529 104,-192.529 111,-192.529\" stroke=\"black\"/>\n",
       "</g>\n",
       "<!-- 140661269284792 -->\n",
       "<g class=\"node\" id=\"node3\"><title>140661269284792</title>\n",
       "<polygon fill=\"none\" points=\"0,-73.5 0,-109.5 215,-109.5 215,-73.5 0,-73.5\" stroke=\"black\"/>\n",
       "<text font-family=\"Times,serif\" font-size=\"14.00\" text-anchor=\"middle\" x=\"107.5\" y=\"-87.8\">leaky_re_lu_11: LeakyReLU</text>\n",
       "</g>\n",
       "<!-- 140661269283840&#45;&gt;140661269284792 -->\n",
       "<g class=\"edge\" id=\"edge2\"><title>140661269283840-&gt;140661269284792</title>\n",
       "<path d=\"M107.5,-146.313C107.5,-138.289 107.5,-128.547 107.5,-119.569\" fill=\"none\" stroke=\"black\"/>\n",
       "<polygon fill=\"black\" points=\"111,-119.529 107.5,-109.529 104,-119.529 111,-119.529\" stroke=\"black\"/>\n",
       "</g>\n",
       "<!-- 140661269285632 -->\n",
       "<g class=\"node\" id=\"node4\"><title>140661269285632</title>\n",
       "<polygon fill=\"none\" points=\"39,-0.5 39,-36.5 176,-36.5 176,-0.5 39,-0.5\" stroke=\"black\"/>\n",
       "<text font-family=\"Times,serif\" font-size=\"14.00\" text-anchor=\"middle\" x=\"107.5\" y=\"-14.8\">dense_20: Dense</text>\n",
       "</g>\n",
       "<!-- 140661269284792&#45;&gt;140661269285632 -->\n",
       "<g class=\"edge\" id=\"edge3\"><title>140661269284792-&gt;140661269285632</title>\n",
       "<path d=\"M107.5,-73.3129C107.5,-65.2895 107.5,-55.5475 107.5,-46.5691\" fill=\"none\" stroke=\"black\"/>\n",
       "<polygon fill=\"black\" points=\"111,-46.5288 107.5,-36.5288 104,-46.5289 111,-46.5288\" stroke=\"black\"/>\n",
       "</g>\n",
       "</g>\n",
       "</svg>"
      ],
      "text/plain": [
       "<IPython.core.display.SVG object>"
      ]
     },
     "execution_count": 43,
     "metadata": {},
     "output_type": "execute_result"
    }
   ],
   "source": [
    "from IPython.display import SVG\n",
    "from keras.utils.vis_utils import model_to_dot\n",
    "\n",
    "SVG(model_to_dot(model).create(prog='dot', format='svg'))"
   ]
  },
  {
   "cell_type": "code",
   "execution_count": 44,
   "metadata": {
    "scrolled": true
   },
   "outputs": [
    {
     "name": "stdout",
     "output_type": "stream",
     "text": [
      "Epoch 1/10\n",
      "45000/45000 [==============================] - 0s - loss: 8.5210 - acc: 0.4644     \n",
      "Epoch 2/10\n",
      "45000/45000 [==============================] - 0s - loss: 7.6060 - acc: 0.5248     \n",
      "Epoch 3/10\n",
      "45000/45000 [==============================] - 0s - loss: 7.4336 - acc: 0.5362     \n",
      "Epoch 4/10\n",
      "45000/45000 [==============================] - 0s - loss: 7.3179 - acc: 0.5434     \n",
      "Epoch 5/10\n",
      "45000/45000 [==============================] - 0s - loss: 7.2900 - acc: 0.5456     \n",
      "Epoch 6/10\n",
      "45000/45000 [==============================] - 0s - loss: 7.2550 - acc: 0.5480     \n",
      "Epoch 7/10\n",
      "45000/45000 [==============================] - 0s - loss: 7.2362 - acc: 0.5494     \n",
      "Epoch 8/10\n",
      "45000/45000 [==============================] - 0s - loss: 7.2469 - acc: 0.5486     \n",
      "Epoch 9/10\n",
      "45000/45000 [==============================] - 0s - loss: 7.2348 - acc: 0.5496     \n",
      "Epoch 10/10\n",
      "45000/45000 [==============================] - 0s - loss: 7.2147 - acc: 0.5508     \n",
      "Test loss: 7.07032510198\n",
      "Test accuracy: 0.559599999968\n"
     ]
    }
   ],
   "source": [
    "# train NN\n",
    "model.fit(X_train, y_train,\n",
    "                    batch_size=256,\n",
    "                    epochs=10,\n",
    "                    verbose=1,)\n",
    "\n",
    "# evaluate your NN\n",
    "score = model.evaluate(X_test, y_test, verbose=0)\n",
    "\n",
    "print('Test loss:', score[0])\n",
    "print('Test accuracy:', score[1])"
   ]
  }
 ],
 "metadata": {
  "kernelspec": {
   "display_name": "Python 3",
   "language": "python",
   "name": "python3"
  },
  "language_info": {
   "codemirror_mode": {
    "name": "ipython",
    "version": 3
   },
   "file_extension": ".py",
   "mimetype": "text/x-python",
   "name": "python",
   "nbconvert_exporter": "python",
   "pygments_lexer": "ipython3",
   "version": "3.5.2"
  }
 },
 "nbformat": 4,
 "nbformat_minor": 2
}
